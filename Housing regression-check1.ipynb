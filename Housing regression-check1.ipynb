{
 "cells": [
  {
   "cell_type": "code",
   "execution_count": 1,
   "metadata": {},
   "outputs": [],
   "source": [
    "# importting libraries\n",
    "import pandas as pd\n",
    "from sklearn.model_selection import train_test_split\n",
    "import numpy as np\n",
    "import matplotlib.pyplot as plt\n",
    "import seaborn as sns\n",
    "sns.set()"
   ]
  },
  {
   "cell_type": "code",
   "execution_count": 2,
   "metadata": {},
   "outputs": [],
   "source": [
    "#reading dataframe\n",
    "train_df = pd.read_csv('housing.csv')"
   ]
  },
  {
   "cell_type": "code",
   "execution_count": 3,
   "metadata": {},
   "outputs": [],
   "source": [
    "# dropiing rowa with missing values\n",
    "train_df.dropna(inplace=True)"
   ]
  },
  {
   "cell_type": "code",
   "execution_count": 4,
   "metadata": {},
   "outputs": [
    {
     "data": {
      "text/html": [
       "<div>\n",
       "<style scoped>\n",
       "    .dataframe tbody tr th:only-of-type {\n",
       "        vertical-align: middle;\n",
       "    }\n",
       "\n",
       "    .dataframe tbody tr th {\n",
       "        vertical-align: top;\n",
       "    }\n",
       "\n",
       "    .dataframe thead th {\n",
       "        text-align: right;\n",
       "    }\n",
       "</style>\n",
       "<table border=\"1\" class=\"dataframe\">\n",
       "  <thead>\n",
       "    <tr style=\"text-align: right;\">\n",
       "      <th></th>\n",
       "      <th>longitude</th>\n",
       "      <th>latitude</th>\n",
       "      <th>housing_median_age</th>\n",
       "      <th>total_rooms</th>\n",
       "      <th>total_bedrooms</th>\n",
       "      <th>population</th>\n",
       "      <th>households</th>\n",
       "      <th>median_income</th>\n",
       "      <th>median_house_value</th>\n",
       "      <th>ocean_proximity</th>\n",
       "    </tr>\n",
       "  </thead>\n",
       "  <tbody>\n",
       "    <tr>\n",
       "      <th>0</th>\n",
       "      <td>-122.23</td>\n",
       "      <td>37.88</td>\n",
       "      <td>41.0</td>\n",
       "      <td>880.0</td>\n",
       "      <td>129.0</td>\n",
       "      <td>322.0</td>\n",
       "      <td>126.0</td>\n",
       "      <td>8.3252</td>\n",
       "      <td>452600.0</td>\n",
       "      <td>NEAR BAY</td>\n",
       "    </tr>\n",
       "    <tr>\n",
       "      <th>1</th>\n",
       "      <td>-122.22</td>\n",
       "      <td>37.86</td>\n",
       "      <td>21.0</td>\n",
       "      <td>7099.0</td>\n",
       "      <td>1106.0</td>\n",
       "      <td>2401.0</td>\n",
       "      <td>1138.0</td>\n",
       "      <td>8.3014</td>\n",
       "      <td>358500.0</td>\n",
       "      <td>NEAR BAY</td>\n",
       "    </tr>\n",
       "    <tr>\n",
       "      <th>2</th>\n",
       "      <td>-122.24</td>\n",
       "      <td>37.85</td>\n",
       "      <td>52.0</td>\n",
       "      <td>1467.0</td>\n",
       "      <td>190.0</td>\n",
       "      <td>496.0</td>\n",
       "      <td>177.0</td>\n",
       "      <td>7.2574</td>\n",
       "      <td>352100.0</td>\n",
       "      <td>NEAR BAY</td>\n",
       "    </tr>\n",
       "    <tr>\n",
       "      <th>3</th>\n",
       "      <td>-122.25</td>\n",
       "      <td>37.85</td>\n",
       "      <td>52.0</td>\n",
       "      <td>1274.0</td>\n",
       "      <td>235.0</td>\n",
       "      <td>558.0</td>\n",
       "      <td>219.0</td>\n",
       "      <td>5.6431</td>\n",
       "      <td>341300.0</td>\n",
       "      <td>NEAR BAY</td>\n",
       "    </tr>\n",
       "    <tr>\n",
       "      <th>4</th>\n",
       "      <td>-122.25</td>\n",
       "      <td>37.85</td>\n",
       "      <td>52.0</td>\n",
       "      <td>1627.0</td>\n",
       "      <td>280.0</td>\n",
       "      <td>565.0</td>\n",
       "      <td>259.0</td>\n",
       "      <td>3.8462</td>\n",
       "      <td>342200.0</td>\n",
       "      <td>NEAR BAY</td>\n",
       "    </tr>\n",
       "  </tbody>\n",
       "</table>\n",
       "</div>"
      ],
      "text/plain": [
       "   longitude  latitude  housing_median_age  total_rooms  total_bedrooms  \\\n",
       "0    -122.23     37.88                41.0        880.0           129.0   \n",
       "1    -122.22     37.86                21.0       7099.0          1106.0   \n",
       "2    -122.24     37.85                52.0       1467.0           190.0   \n",
       "3    -122.25     37.85                52.0       1274.0           235.0   \n",
       "4    -122.25     37.85                52.0       1627.0           280.0   \n",
       "\n",
       "   population  households  median_income  median_house_value ocean_proximity  \n",
       "0       322.0       126.0         8.3252            452600.0        NEAR BAY  \n",
       "1      2401.0      1138.0         8.3014            358500.0        NEAR BAY  \n",
       "2       496.0       177.0         7.2574            352100.0        NEAR BAY  \n",
       "3       558.0       219.0         5.6431            341300.0        NEAR BAY  \n",
       "4       565.0       259.0         3.8462            342200.0        NEAR BAY  "
      ]
     },
     "execution_count": 4,
     "metadata": {},
     "output_type": "execute_result"
    }
   ],
   "source": [
    "train_df.head()"
   ]
  },
  {
   "cell_type": "code",
   "execution_count": 5,
   "metadata": {},
   "outputs": [],
   "source": [
    "# spit data into features and target\n",
    "Y = train_df['median_house_value']\n",
    "X = train_df.loc[:,'longitude':'median_income']"
   ]
  },
  {
   "cell_type": "code",
   "execution_count": 6,
   "metadata": {},
   "outputs": [
    {
     "data": {
      "text/plain": [
       "array([<matplotlib.axes._subplots.AxesSubplot object at 0x7f04b7068d50>,\n",
       "       <matplotlib.axes._subplots.AxesSubplot object at 0x7f04b6d89f90>,\n",
       "       <matplotlib.axes._subplots.AxesSubplot object at 0x7f04b6d3ead0>,\n",
       "       <matplotlib.axes._subplots.AxesSubplot object at 0x7f04b6d7acd0>,\n",
       "       <matplotlib.axes._subplots.AxesSubplot object at 0x7f04b6d32810>,\n",
       "       <matplotlib.axes._subplots.AxesSubplot object at 0x7f04b6ce6e90>,\n",
       "       <matplotlib.axes._subplots.AxesSubplot object at 0x7f04b6ca7550>,\n",
       "       <matplotlib.axes._subplots.AxesSubplot object at 0x7f04b6c5ebd0>,\n",
       "       <matplotlib.axes._subplots.AxesSubplot object at 0x7f04b6c66750>],\n",
       "      dtype=object)"
      ]
     },
     "execution_count": 6,
     "metadata": {},
     "output_type": "execute_result"
    },
    {
     "data": {
      "image/png": "[encoded data removed]",
      "text/plain": [
       "<Figure size 1296x720 with 9 Axes>"
      ]
     },
     "metadata": {},
     "output_type": "display_data"
    }
   ],
   "source": [
    "# plot first 10 samples\n",
    "(train_df.head(10)).plot(subplots=True,figsize=(18,10))"
   ]
  },
  {
   "cell_type": "code",
   "execution_count": 7,
   "metadata": {},
   "outputs": [
    {
     "data": {
      "text/plain": [
       "(   longitude  latitude  housing_median_age  total_rooms  total_bedrooms  \\\n",
       " 0    -122.23     37.88                41.0        880.0           129.0   \n",
       " 1    -122.22     37.86                21.0       7099.0          1106.0   \n",
       " 2    -122.24     37.85                52.0       1467.0           190.0   \n",
       " 3    -122.25     37.85                52.0       1274.0           235.0   \n",
       " 4    -122.25     37.85                52.0       1627.0           280.0   \n",
       " \n",
       "    population  households  median_income  \n",
       " 0       322.0       126.0         8.3252  \n",
       " 1      2401.0      1138.0         8.3014  \n",
       " 2       496.0       177.0         7.2574  \n",
       " 3       558.0       219.0         5.6431  \n",
       " 4       565.0       259.0         3.8462  , 0    452600.0\n",
       " 1    358500.0\n",
       " 2    352100.0\n",
       " 3    341300.0\n",
       " 4    342200.0\n",
       " Name: median_house_value, dtype: float64)"
      ]
     },
     "execution_count": 7,
     "metadata": {},
     "output_type": "execute_result"
    }
   ],
   "source": [
    "X.head(),Y.head()"
   ]
  },
  {
   "cell_type": "code",
   "execution_count": 8,
   "metadata": {},
   "outputs": [],
   "source": [
    "# scaling feature values using Z score normalization\n",
    "from sklearn.preprocessing import StandardScaler\n",
    "X = StandardScaler().fit_transform(X)"
   ]
  },
  {
   "cell_type": "code",
   "execution_count": 9,
   "metadata": {},
   "outputs": [],
   "source": [
    "import torch\n",
    "import torch.nn as nn\n",
    "import torch.nn.functional as F"
   ]
  },
  {
   "cell_type": "code",
   "execution_count": 10,
   "metadata": {},
   "outputs": [],
   "source": [
    "# splitting data into train and test\n",
    "train_x,test_x,train_y,test_y = train_test_split(X,Y,test_size=0.3,random_state=2003)"
   ]
  },
  {
   "cell_type": "code",
   "execution_count": 11,
   "metadata": {},
   "outputs": [],
   "source": [
    "# reshaping data to match input dimension of network\n",
    "train_x_np = train_x.reshape(train_x.shape[0],-1,train_x.shape[1])\n",
    "test_x_np = test_x.reshape(test_x.shape[0],-1,test_x.shape[1])\n",
    "\n",
    "train_y_np = train_y.to_numpy()\n",
    "test_y_np = test_y.to_numpy()"
   ]
  },
  {
   "cell_type": "code",
   "execution_count": 12,
   "metadata": {},
   "outputs": [
    {
     "data": {
      "text/plain": [
       "(14303, 1, 8)"
      ]
     },
     "execution_count": 12,
     "metadata": {},
     "output_type": "execute_result"
    }
   ],
   "source": [
    "train_x_np.shape"
   ]
  },
  {
   "cell_type": "code",
   "execution_count": 13,
   "metadata": {},
   "outputs": [],
   "source": [
    "class CnnRegressor(nn.Module):\n",
    "    \n",
    "    def __init__(self,in_ch,inputs,outputs,y_range):\n",
    "        \n",
    "        super(CnnRegressor,self).__init__()\n",
    "        self.in_ch = in_ch\n",
    "        self.inputs = inputs\n",
    "        self.outputs =outputs\n",
    "        self.y_range = y_range\n",
    "        \n",
    "        self.input_layer = nn.Conv1d(in_ch,50,3,padding=1)\n",
    "        self.bactch_norm = nn.BatchNorm1d(50)\n",
    "        self.con_layer = nn.Conv1d(50,100,3)\n",
    "        self.con_layer2 = nn.Conv1d(100,150,3)\n",
    "        self.con_layer3 = nn.Conv1d(150,200,4)\n",
    "        \n",
    "        self.flatten = nn.Flatten()\n",
    "        self.linear1 = nn.Linear(200,100)\n",
    "        self.batch_norm2 = nn.BatchNorm1d(100) \n",
    "        self.linear2 = nn.Linear(100,50)\n",
    "        self.linear3 = nn.Linear(50,25)\n",
    "        self.linear4 = nn.Linear(25,12)\n",
    "        self.output_layer = nn.Linear(12,outputs)\n",
    "        \n",
    "    def forward(self,inp):\n",
    "        \n",
    "        inp =  inp\n",
    "        x = F.relu(self.input_layer(inp))\n",
    "        x = self.bactch_norm(x)\n",
    "        x = F.relu(self.con_layer(x))\n",
    "        x = F.relu(self.con_layer2(x))\n",
    "        x = F.relu(self.con_layer3(x))\n",
    "        \n",
    "        x = self.flatten(x)\n",
    "        x = F.leaky_relu(self.linear1(x))\n",
    "        x = self.batch_norm2(x)\n",
    "        x = F.leaky_relu(self.linear2(x))\n",
    "        x = F.leaky_relu(self.linear3(x))\n",
    "        x = F.leaky_relu(self.linear4(x))\n",
    "        x = torch.sigmoid(self.output_layer(x)) * (self.y_range[1]-self.y_range[0]) + self.y_range[0]\n",
    "        return x\n",
    "    \n",
    "    "
   ]
  },
  {
   "cell_type": "code",
   "execution_count": 14,
   "metadata": {},
   "outputs": [],
   "source": [
    "from ignite.contrib.metrics.regression.r2_score import R2Score"
   ]
  },
  {
   "cell_type": "code",
   "execution_count": 15,
   "metadata": {},
   "outputs": [
    {
     "data": {
      "text/plain": [
       "CnnRegressor(\n",
       "  (input_layer): Conv1d(1, 50, kernel_size=(3,), stride=(1,), padding=(1,))\n",
       "  (bactch_norm): BatchNorm1d(50, eps=1e-05, momentum=0.1, affine=True, track_running_stats=True)\n",
       "  (con_layer): Conv1d(50, 100, kernel_size=(3,), stride=(1,))\n",
       "  (con_layer2): Conv1d(100, 150, kernel_size=(3,), stride=(1,))\n",
       "  (con_layer3): Conv1d(150, 200, kernel_size=(4,), stride=(1,))\n",
       "  (flatten): Flatten()\n",
       "  (linear1): Linear(in_features=200, out_features=100, bias=True)\n",
       "  (batch_norm2): BatchNorm1d(100, eps=1e-05, momentum=0.1, affine=True, track_running_stats=True)\n",
       "  (linear2): Linear(in_features=100, out_features=50, bias=True)\n",
       "  (linear3): Linear(in_features=50, out_features=25, bias=True)\n",
       "  (linear4): Linear(in_features=25, out_features=12, bias=True)\n",
       "  (output_layer): Linear(in_features=12, out_features=1, bias=True)\n",
       ")"
      ]
     },
     "execution_count": 15,
     "metadata": {},
     "output_type": "execute_result"
    }
   ],
   "source": [
    "#setting batch size and instiating model\n",
    "batch_size = 1024\n",
    "model = CnnRegressor(train_x_np.shape[1],train_x_np.shape[2],1,y_range = [min(train_y_np),max(train_y_np)*1.1])\n",
    "model.cuda()\n",
    "#model.load_state_dict(torch.load('117021_1dconv_reg'))"
   ]
  },
  {
   "cell_type": "code",
   "execution_count": 16,
   "metadata": {},
   "outputs": [],
   "source": [
    "# setting optimizer and hyper parameters\n",
    "from torch.optim import lr_scheduler\n",
    "optimizer = torch.optim.RMSprop(model.parameters(),lr=3e-4,weight_decay=3e-5,momentum=0.3);schedule=False\n",
    "scheduler = lr_scheduler.MultiStepLR(optimizer,[10,25,40,60,75,],gamma=0.9);schedule=True\n",
    "\n"
   ]
  },
  {
   "cell_type": "code",
   "execution_count": 17,
   "metadata": {},
   "outputs": [],
   "source": [
    "# traing and testing loop function\n",
    "def model_loss(model,dataset,train=False,optimizer=None):\n",
    "    \n",
    "    if train==True:\n",
    "        model.train()\n",
    "        \n",
    "    else:\n",
    "        model.eval()\n",
    "        \n",
    "    performance = torch.nn.L1Loss()\n",
    "    score_metric = R2Score()\n",
    "    \n",
    "    avg_loss = 0\n",
    "    avg_score = 0\n",
    "    count = 0\n",
    "    \n",
    "    for x,y in (dataset):\n",
    "        \n",
    "        pred = model(x)\n",
    "        \n",
    "        loss = performance(pred,y)\n",
    "        score_metric.update([pred,y])\n",
    "        score = score_metric.compute()\n",
    "        \n",
    "        if train:\n",
    "            optimizer.zero_grad()\n",
    "            loss.backward()\n",
    "            optimizer.step()\n",
    "            if schedule:\n",
    "                scheduler.step()\n",
    "        \n",
    "        avg_loss +=loss.item()\n",
    "        avg_score+=score\n",
    "        count+=1\n",
    "        \n",
    "    return avg_loss / count,score / count"
   ]
  },
  {
   "cell_type": "code",
   "execution_count": 18,
   "metadata": {},
   "outputs": [],
   "source": [
    "epochs = 100\n",
    "\n",
    "inputs = torch.from_numpy(train_x_np).cuda().float()\n",
    "outputs = torch.from_numpy(train_y_np.reshape(-1,1)).cuda().float()\n",
    "\n",
    "tensors = torch.utils.data.TensorDataset(inputs,outputs)\n",
    "loader = torch.utils.data.DataLoader(tensors,batch_size,shuffle=True,drop_last=True)"
   ]
  },
  {
   "cell_type": "code",
   "execution_count": 19,
   "metadata": {},
   "outputs": [
    {
     "name": "stdout",
     "output_type": "stream",
     "text": [
      "Epoch 0/100\n",
      " Loss: 71604.34585336539  R2: 0.026523894888498004\n",
      "Epoch 1/100\n",
      " Loss: 44047.196213942305  R2: 0.05353930714386486\n",
      "Epoch 2/100\n",
      " Loss: 39271.644230769234  R2: 0.05730210328300964\n",
      "Epoch 3/100\n",
      " Loss: 38044.72716346154  R2: 0.058051174053844266\n",
      "Epoch 4/100\n",
      " Loss: 36827.03846153846  R2: 0.05913070725977344\n",
      "Epoch 5/100\n",
      " Loss: 36336.97205528846  R2: 0.05948996345457758\n",
      "Epoch 6/100\n",
      " Loss: 35760.633713942305  R2: 0.05976255897126958\n",
      "Epoch 7/100\n",
      " Loss: 35444.53064903846  R2: 0.059982523537906014\n",
      "Epoch 8/100\n",
      " Loss: 35103.610877403844  R2: 0.060114653189054554\n",
      "Epoch 9/100\n",
      " Loss: 35025.96018629808  R2: 0.06017659877069466\n",
      "Epoch 10/100\n",
      " Loss: 34568.538161057695  R2: 0.060489527969033285\n",
      "Epoch 11/100\n",
      " Loss: 34815.31640625  R2: 0.06039825565084797\n",
      "Epoch 12/100\n",
      " Loss: 34166.328125  R2: 0.06079281736291437\n",
      "Epoch 13/100\n",
      " Loss: 34044.01292067308  R2: 0.060938102146541336\n",
      "Epoch 14/100\n",
      " Loss: 33813.55063100962  R2: 0.06100912916501365\n",
      "Epoch 15/100\n",
      " Loss: 33634.854417067305  R2: 0.06119508330088364\n",
      "Epoch 16/100\n",
      " Loss: 33537.58984375  R2: 0.061229811139839024\n",
      "Epoch 17/100\n",
      " Loss: 33561.235276442305  R2: 0.061307146284407026\n",
      "Epoch 18/100\n",
      " Loss: 33072.310546875  R2: 0.06155729143103845\n",
      "Epoch 19/100\n",
      " Loss: 32734.813701923078  R2: 0.06188536672658768\n",
      "Epoch 20/100\n",
      " Loss: 32851.66391225962  R2: 0.06155832187756112\n",
      "Epoch 21/100\n",
      " Loss: 32901.24098557692  R2: 0.06166683267249868\n",
      "Epoch 22/100\n",
      " Loss: 32642.252403846152  R2: 0.061877705567809575\n",
      "Epoch 23/100\n",
      " Loss: 32296.98497596154  R2: 0.062287219268470445\n",
      "Epoch 24/100\n",
      " Loss: 31911.872896634617  R2: 0.06258785404540429\n",
      "Epoch 25/100\n",
      " Loss: 32288.73798076923  R2: 0.06214603410062729\n",
      "Epoch 26/100\n",
      " Loss: 32134.80048076923  R2: 0.062308716374289065\n",
      "Epoch 27/100\n",
      " Loss: 31799.43103966346  R2: 0.06255157857936836\n",
      "Epoch 28/100\n",
      " Loss: 31973.667217548078  R2: 0.06229395719240697\n",
      "Epoch 29/100\n",
      " Loss: 31646.403846153848  R2: 0.06252515174854331\n",
      "Epoch 30/100\n",
      " Loss: 31496.84209735577  R2: 0.06285683690412483\n",
      "Epoch 31/100\n",
      " Loss: 31143.140174278848  R2: 0.0629744214691892\n",
      "Epoch 32/100\n",
      " Loss: 31578.516376201922  R2: 0.06254576472957295\n",
      "Epoch 33/100\n",
      " Loss: 31307.884314903848  R2: 0.06294205277376969\n",
      "Epoch 34/100\n",
      " Loss: 31329.966796875  R2: 0.06293982279700615\n",
      "Epoch 35/100\n",
      " Loss: 30583.451171875  R2: 0.0631140246569844\n",
      "Epoch 36/100\n",
      " Loss: 31066.706580528848  R2: 0.06301163840153344\n",
      "Epoch 37/100\n",
      " Loss: 30852.30964543269  R2: 0.06299791768996511\n",
      "Epoch 38/100\n",
      " Loss: 30855.63311298077  R2: 0.06304369343454183\n",
      "Epoch 39/100\n",
      " Loss: 30114.22205528846  R2: 0.06359108338389213\n",
      "Epoch 40/100\n",
      " Loss: 30203.440204326922  R2: 0.06346246629204143\n",
      "Epoch 41/100\n",
      " Loss: 30215.050631009617  R2: 0.06324705826301785\n",
      "Epoch 42/100\n",
      " Loss: 30123.33338341346  R2: 0.06355869660796762\n",
      "Epoch 43/100\n",
      " Loss: 30121.88176081731  R2: 0.06343988030918643\n",
      "Epoch 44/100\n",
      " Loss: 29993.50300480769  R2: 0.06361466863150965\n",
      "Epoch 45/100\n",
      " Loss: 29594.448016826922  R2: 0.06389769499867429\n",
      "Epoch 46/100\n",
      " Loss: 29823.376502403848  R2: 0.06387637135909222\n",
      "Epoch 47/100\n",
      " Loss: 29262.172025240383  R2: 0.06420211656963765\n",
      "Epoch 48/100\n",
      " Loss: 29564.459134615383  R2: 0.06410192492816172\n",
      "Epoch 49/100\n",
      " Loss: 29258.28515625  R2: 0.06422588313388528\n",
      "Epoch 50/100\n",
      " Loss: 29099.25555889423  R2: 0.0643080215815536\n",
      "Epoch 51/100\n",
      " Loss: 29363.63777043269  R2: 0.06393485663031694\n",
      "Epoch 52/100\n",
      " Loss: 29034.404296875  R2: 0.06426467317396029\n",
      "Epoch 53/100\n",
      " Loss: 28961.918118990383  R2: 0.06439838802194688\n",
      "Epoch 54/100\n",
      " Loss: 29235.01592548077  R2: 0.06417702883629639\n",
      "Epoch 55/100\n",
      " Loss: 28820.426532451922  R2: 0.06451776740355976\n",
      "Epoch 56/100\n",
      " Loss: 28975.33819110577  R2: 0.06453724300656892\n",
      "Epoch 57/100\n",
      " Loss: 29158.776592548078  R2: 0.06431744974172525\n",
      "Epoch 58/100\n",
      " Loss: 28458.27644230769  R2: 0.06467338374733765\n",
      "Epoch 59/100\n",
      " Loss: 28501.965594951922  R2: 0.06473071069787743\n",
      "Epoch 60/100\n",
      " Loss: 28326.639423076922  R2: 0.06479352968912701\n",
      "Epoch 61/100\n",
      " Loss: 28268.89618389423  R2: 0.06492095215999996\n",
      "Epoch 62/100\n",
      " Loss: 28112.830078125  R2: 0.06487822468672212\n",
      "Epoch 63/100\n",
      " Loss: 27911.172025240383  R2: 0.0649265758924133\n",
      "Epoch 64/100\n",
      " Loss: 27710.40715144231  R2: 0.06522483684033764\n",
      "Epoch 65/100\n",
      " Loss: 27640.18103966346  R2: 0.0653797890552963\n",
      "Epoch 66/100\n",
      " Loss: 28117.796123798078  R2: 0.06506002896690234\n",
      "Epoch 67/100\n",
      " Loss: 27443.10772235577  R2: 0.0653897993421424\n",
      "Epoch 68/100\n",
      " Loss: 27500.000450721152  R2: 0.06527372963542276\n",
      "Epoch 69/100\n",
      " Loss: 27506.91120793269  R2: 0.06526013354327312\n",
      "Epoch 70/100\n",
      " Loss: 27530.09705528846  R2: 0.06536960803545053\n",
      "Epoch 71/100\n",
      " Loss: 27698.800931490383  R2: 0.06521370876242252\n",
      "Epoch 72/100\n",
      " Loss: 27285.01277043269  R2: 0.0653962459146895\n",
      "Epoch 73/100\n",
      " Loss: 27157.67938701923  R2: 0.06558271909209573\n",
      "Epoch 74/100\n",
      " Loss: 27401.79356971154  R2: 0.06543217566716401\n",
      "Epoch 75/100\n",
      " Loss: 27042.67743389423  R2: 0.06565682152694871\n",
      "Epoch 76/100\n",
      " Loss: 27001.042217548078  R2: 0.06560010101463999\n",
      "Epoch 77/100\n",
      " Loss: 26431.31926081731  R2: 0.0661709882159381\n",
      "Epoch 78/100\n",
      " Loss: 27218.007361778848  R2: 0.06556615898424036\n",
      "Epoch 79/100\n",
      " Loss: 26764.88386418269  R2: 0.06597092036824982\n",
      "Epoch 80/100\n",
      " Loss: 26802.84540264423  R2: 0.06591935371114833\n",
      "Epoch 81/100\n",
      " Loss: 26617.160306490383  R2: 0.06599329028802788\n",
      "Epoch 82/100\n",
      " Loss: 26399.07421875  R2: 0.06603472026070126\n",
      "Epoch 83/100\n",
      " Loss: 26113.10021033654  R2: 0.06630726311328733\n",
      "Epoch 84/100\n",
      " Loss: 26050.513671875  R2: 0.0662889816459326\n",
      "Epoch 85/100\n",
      " Loss: 26223.82902644231  R2: 0.06636475581488245\n",
      "Epoch 86/100\n",
      " Loss: 26452.78290264423  R2: 0.06613782994818618\n",
      "Epoch 87/100\n",
      " Loss: 26144.979266826922  R2: 0.06626431753016712\n",
      "Epoch 88/100\n",
      " Loss: 26005.80213341346  R2: 0.0660706542195238\n",
      "Epoch 89/100\n",
      " Loss: 25778.203125  R2: 0.0664829879917107\n",
      "Epoch 90/100\n",
      " Loss: 26194.596153846152  R2: 0.06633610467889099\n",
      "Epoch 91/100\n",
      " Loss: 25886.59119591346  R2: 0.06649086641652162\n",
      "Epoch 92/100\n",
      " Loss: 25485.70147235577  R2: 0.06674886772320948\n",
      "Epoch 93/100\n",
      " Loss: 25668.993990384617  R2: 0.0665314672826623\n",
      "Epoch 94/100\n",
      " Loss: 25666.821814903848  R2: 0.06679847087917429\n",
      "Epoch 95/100\n",
      " Loss: 25214.47010216346  R2: 0.0667952670996857\n",
      "Epoch 96/100\n",
      " Loss: 25409.719951923078  R2: 0.06683840119622825\n",
      "Epoch 97/100\n",
      " Loss: 25241.87635216346  R2: 0.0669379264232906\n",
      "Epoch 98/100\n",
      " Loss: 25478.99744591346  R2: 0.06686925502028351\n",
      "Epoch 99/100\n",
      " Loss: 24995.040865384617  R2: 0.06716169233634432\n"
     ]
    }
   ],
   "source": [
    "# Training \n",
    "for ep in range(epochs):\n",
    "    print('Epoch {0}/{1}'.format(ep,epochs))\n",
    "    avg_loss,avg_r2 = model_loss(model,loader,train=True,optimizer=optimizer)\n",
    "    \n",
    "    print(\" Loss:\",avg_loss,\" R2:\",avg_r2)"
   ]
  },
  {
   "cell_type": "code",
   "execution_count": 20,
   "metadata": {},
   "outputs": [],
   "source": [
    "# Testing\n",
    "\n",
    "inputs = torch.from_numpy(test_x_np).cuda().float()\n",
    "outputs = torch.from_numpy(test_y_np.reshape(-1,1)).cuda().float()\n",
    "\n",
    "tensors = torch.utils.data.TensorDataset(inputs,outputs)\n",
    "test_loader = torch.utils.data.DataLoader(tensors,1,shuffle=True,drop_last=True)"
   ]
  },
  {
   "cell_type": "code",
   "execution_count": 21,
   "metadata": {},
   "outputs": [
    {
     "name": "stdout",
     "output_type": "stream",
     "text": [
      " Loss: 34572.5300233228  R2: 0.00012614335478223178\n"
     ]
    }
   ],
   "source": [
    "\n",
    "avg_loss,avg_r2 = model_loss(model,test_loader)\n",
    "print(\" Loss:\",avg_loss,\" R2:\",avg_r2)"
   ]
  },
  {
   "cell_type": "code",
   "execution_count": 23,
   "metadata": {},
   "outputs": [],
   "source": [
    "torch.save(model.state_dict(),'1117021_1dconv_reg')"
   ]
  },
  {
   "cell_type": "code",
   "execution_count": null,
   "metadata": {},
   "outputs": [],
   "source": []
  }
 ],
 "metadata": {
  "kernelspec": {
   "display_name": "Python (fastai_env)",
   "language": "python",
   "name": "myenv"
  },
  "language_info": {
   "codemirror_mode": {
    "name": "ipython",
    "version": 3
   },
   "file_extension": ".py",
   "mimetype": "text/x-python",
   "name": "python",
   "nbconvert_exporter": "python",
   "pygments_lexer": "ipython3",
   "version": "3.7.6"
  }
 },
 "nbformat": 4,
 "nbformat_minor": 2
}
